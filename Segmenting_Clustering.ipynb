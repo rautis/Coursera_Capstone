{
 "cells": [
  {
   "cell_type": "markdown",
   "metadata": {},
   "source": [
    "# Segmenting and Clustering Neighborhoods in Toronto\n",
    "\n",
    "First import the needed python packages"
   ]
  },
  {
   "cell_type": "code",
   "execution_count": 61,
   "metadata": {},
   "outputs": [],
   "source": [
    "import pandas as pd\n",
    "import numpy as np\n",
    "from bs4 import BeautifulSoup\n",
    "from sklearn.cluster import KMeans\n",
    "import folium \n",
    "import requests"
   ]
  },
  {
   "cell_type": "markdown",
   "metadata": {},
   "source": [
    "Scrape Toronto neighborhoods from the Wikipedia. First download the page using the `requests` package. Then use the `BeautifulSoup` web scraping package to get a list of Toronto neighborhoods."
   ]
  },
  {
   "cell_type": "code",
   "execution_count": 62,
   "metadata": {},
   "outputs": [],
   "source": [
    "wikipedia_url = \"https://en.wikipedia.org/wiki/List_of_postal_codes_of_Canada:_M\"\n",
    "soup = BeautifulSoup(requests.get(wikipedia_url).text, 'html.parser')\n",
    "\n",
    "# find first table on the html\n",
    "postal_codes = soup.find_all('table')[0]\n",
    "\n",
    "# iterate over rows in the table body\n",
    "table_body = postal_codes.find('tbody')\n",
    "\n",
    "data = []\n",
    "rows = table_body.find_all('tr')\n",
    "for row in rows:\n",
    "    cols = row.find_all('td')\n",
    "    df_row = tuple([elem.text.strip() for elem in cols])\n",
    "    \n",
    "    if cols:\n",
    "        data.append(df_row)\n"
   ]
  },
  {
   "cell_type": "markdown",
   "metadata": {},
   "source": [
    "Use a list of tuples `(postal_code, borough, neighborhood)` to create a Pandas dataframe. Clean up the dataframe by removing all the rows in which borough is not assigned. After that replace not assigned neighborhood with the borough name. "
   ]
  },
  {
   "cell_type": "code",
   "execution_count": 63,
   "metadata": {},
   "outputs": [],
   "source": [
    "# create Pandas dataframe\n",
    "df = pd.DataFrame(data, columns=[\"PostalCode\", \"Borough\", \"Neighborhood\"])\n",
    "\n",
    "# drop if borough is not assigned \n",
    "df = df[df[\"Borough\"] != \"Not assigned\"]\n",
    "\n",
    "# if neighborhood is not assigned us the borough name\n",
    "df[\"Neighborhood\"] = np.where(df[\"Neighborhood\"] == \"Not assigned\", df[\"Borough\"], df[\"Neighborhood\"])"
   ]
  },
  {
   "cell_type": "markdown",
   "metadata": {},
   "source": [
    "Finally combine neighborhoods with the same postal code."
   ]
  },
  {
   "cell_type": "code",
   "execution_count": 64,
   "metadata": {},
   "outputs": [
    {
     "data": {
      "text/plain": [
       "(103, 3)"
      ]
     },
     "execution_count": 64,
     "metadata": {},
     "output_type": "execute_result"
    }
   ],
   "source": [
    "# combine postal codes\n",
    "combined = df.groupby([\"PostalCode\"])[\"Neighborhood\"].agg(lambda n: ','.join(n))\n",
    "df = df.drop([\"Neighborhood\"], axis=1)\n",
    "df.drop_duplicates(subset=\"PostalCode\", inplace=True)\n",
    "\n",
    "toronto_df = df.join(combined, on=\"PostalCode\")\n",
    "\n",
    "# print out shape\n",
    "toronto_df.shape"
   ]
  },
  {
   "cell_type": "code",
   "execution_count": 65,
   "metadata": {},
   "outputs": [
    {
     "data": {
      "text/html": [
       "<div>\n",
       "<style>\n",
       "    .dataframe thead tr:only-child th {\n",
       "        text-align: right;\n",
       "    }\n",
       "\n",
       "    .dataframe thead th {\n",
       "        text-align: left;\n",
       "    }\n",
       "\n",
       "    .dataframe tbody tr th {\n",
       "        vertical-align: top;\n",
       "    }\n",
       "</style>\n",
       "<table border=\"1\" class=\"dataframe\">\n",
       "  <thead>\n",
       "    <tr style=\"text-align: right;\">\n",
       "      <th></th>\n",
       "      <th>PostalCode</th>\n",
       "      <th>Borough</th>\n",
       "      <th>Neighborhood</th>\n",
       "    </tr>\n",
       "  </thead>\n",
       "  <tbody>\n",
       "    <tr>\n",
       "      <th>2</th>\n",
       "      <td>M3A</td>\n",
       "      <td>North York</td>\n",
       "      <td>Parkwoods</td>\n",
       "    </tr>\n",
       "    <tr>\n",
       "      <th>3</th>\n",
       "      <td>M4A</td>\n",
       "      <td>North York</td>\n",
       "      <td>Victoria Village</td>\n",
       "    </tr>\n",
       "    <tr>\n",
       "      <th>4</th>\n",
       "      <td>M5A</td>\n",
       "      <td>Downtown Toronto</td>\n",
       "      <td>Harbourfront,Regent Park</td>\n",
       "    </tr>\n",
       "    <tr>\n",
       "      <th>6</th>\n",
       "      <td>M6A</td>\n",
       "      <td>North York</td>\n",
       "      <td>Lawrence Heights,Lawrence Manor</td>\n",
       "    </tr>\n",
       "    <tr>\n",
       "      <th>8</th>\n",
       "      <td>M7A</td>\n",
       "      <td>Queen's Park</td>\n",
       "      <td>Queen's Park</td>\n",
       "    </tr>\n",
       "  </tbody>\n",
       "</table>\n",
       "</div>"
      ],
      "text/plain": [
       "  PostalCode           Borough                     Neighborhood\n",
       "2        M3A        North York                        Parkwoods\n",
       "3        M4A        North York                 Victoria Village\n",
       "4        M5A  Downtown Toronto         Harbourfront,Regent Park\n",
       "6        M6A        North York  Lawrence Heights,Lawrence Manor\n",
       "8        M7A      Queen's Park                     Queen's Park"
      ]
     },
     "execution_count": 65,
     "metadata": {},
     "output_type": "execute_result"
    }
   ],
   "source": [
    "toronto_df.head()"
   ]
  },
  {
   "cell_type": "code",
   "execution_count": null,
   "metadata": {},
   "outputs": [],
   "source": []
  }
 ],
 "metadata": {
  "kernelspec": {
   "display_name": "Python 3",
   "language": "python",
   "name": "python3"
  },
  "language_info": {
   "codemirror_mode": {
    "name": "ipython",
    "version": 3
   },
   "file_extension": ".py",
   "mimetype": "text/x-python",
   "name": "python",
   "nbconvert_exporter": "python",
   "pygments_lexer": "ipython3",
   "version": "3.6.6"
  }
 },
 "nbformat": 4,
 "nbformat_minor": 2
}
